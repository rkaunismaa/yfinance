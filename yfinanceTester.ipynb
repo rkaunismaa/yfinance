{
 "cells": [
  {
   "cell_type": "markdown",
   "id": "c8cc6fed-bff2-4aa4-a02a-39dd126ef71f",
   "metadata": {},
   "source": [
    "Sunday, January 8, 2023\n",
    "\n",
    "First time playing with yfinance. I want to get an understanding on what it can do and show. \n",
    "\n",
    "https://pypi.org/project/yfinance/\n",
    "\n",
    "conda activate finance"
   ]
  },
  {
   "cell_type": "code",
   "execution_count": 1,
   "id": "cacfea8c",
   "metadata": {},
   "outputs": [],
   "source": [
    "# importing the yfinanceCopy module\n",
    "import sys\t\t\n",
    "sys.path.append('/home/rob/Documents/Github/ranaroussi')\t"
   ]
  },
  {
   "cell_type": "code",
   "execution_count": 2,
   "id": "7f331451-5920-46ac-a948-06b71023ed92",
   "metadata": {},
   "outputs": [],
   "source": [
    "# import yfinance as yf\n",
    "from yfinanceCopy import yfinance as yf\n"
   ]
  },
  {
   "cell_type": "code",
   "execution_count": 3,
   "id": "9e46a869-12a4-41fa-9596-ec75e7e22991",
   "metadata": {},
   "outputs": [],
   "source": [
    "# This does NOT make any api calls!\n",
    "msft = yf.Ticker(\"MSFT\")"
   ]
  },
  {
   "cell_type": "code",
   "execution_count": 40,
   "id": "62a13ff8",
   "metadata": {},
   "outputs": [],
   "source": [
    "msft = None"
   ]
  },
  {
   "cell_type": "code",
   "execution_count": 4,
   "id": "fca4dc4b-0f2f-42f9-9713-b841c77199e3",
   "metadata": {},
   "outputs": [
    {
     "data": {
      "text/plain": [
       "{'zip': '98052-6399',\n",
       " 'sector': 'Technology',\n",
       " 'fullTimeEmployees': 221000,\n",
       " 'longBusinessSummary': 'Microsoft Corporation develops, licenses, and supports software, services, devices, and solutions worldwide. The company operates in three segments: Productivity and Business Processes, Intelligent Cloud, and More Personal Computing. The Productivity and Business Processes segment offers Office, Exchange, SharePoint, Microsoft Teams, Office 365 Security and Compliance, Microsoft Viva, and Skype for Business; Skype, Outlook.com, OneDrive, and LinkedIn; and Dynamics 365, a set of cloud-based and on-premises business solutions for organizations and enterprise divisions. The Intelligent Cloud segment licenses SQL, Windows Servers, Visual Studio, System Center, and related Client Access Licenses; GitHub that provides a collaboration platform and code hosting service for developers; Nuance provides healthcare and enterprise AI solutions; and Azure, a cloud platform. It also offers enterprise support, Microsoft consulting, and nuance professional services to assist customers in developing, deploying, and managing Microsoft server and desktop solutions; and training and certification on Microsoft products. The More Personal Computing segment provides Windows original equipment manufacturer (OEM) licensing and other non-volume licensing of the Windows operating system; Windows Commercial, such as volume licensing of the Windows operating system, Windows cloud services, and other Windows commercial offerings; patent licensing; and Windows Internet of Things. It also offers Surface, PC accessories, PCs, tablets, gaming and entertainment consoles, and other devices; Gaming, including Xbox hardware, and Xbox content and services; video games and third-party video game royalties; and Search, including Bing and Microsoft advertising. The company sells its products through OEMs, distributors, and resellers; and directly through digital marketplaces, online stores, and retail stores. Microsoft Corporation was founded in 1975 and is headquartered in Redmond, Washington.',\n",
       " 'city': 'Redmond',\n",
       " 'phone': '425 882 8080',\n",
       " 'state': 'WA',\n",
       " 'country': 'United States',\n",
       " 'companyOfficers': [],\n",
       " 'website': 'https://www.microsoft.com',\n",
       " 'maxAge': 1,\n",
       " 'address1': 'One Microsoft Way',\n",
       " 'fax': '425 706 7329',\n",
       " 'industry': 'Software—Infrastructure',\n",
       " 'ebitdaMargins': 0.48672,\n",
       " 'profitMargins': 0.34366,\n",
       " 'grossMargins': 0.6826,\n",
       " 'operatingCashflow': 87693000704,\n",
       " 'revenueGrowth': 0.106,\n",
       " 'operatingMargins': 0.41691002,\n",
       " 'ebitda': 98841001984,\n",
       " 'targetLowPrice': 200,\n",
       " 'recommendationKey': 'buy',\n",
       " 'grossProfits': 135620000000,\n",
       " 'freeCashflow': 46155874304,\n",
       " 'targetMedianPrice': 287.5,\n",
       " 'currentPrice': 230.69,\n",
       " 'earningsGrowth': -0.133,\n",
       " 'currentRatio': 1.84,\n",
       " 'returnOnAssets': 0.15223,\n",
       " 'numberOfAnalystOpinions': 46,\n",
       " 'targetMeanPrice': 293.28,\n",
       " 'debtToEquity': 44.442,\n",
       " 'returnOnEquity': 0.42875,\n",
       " 'targetHighPrice': 411,\n",
       " 'totalCash': 107244003328,\n",
       " 'totalDebt': 77136003072,\n",
       " 'totalRevenue': 203074994176,\n",
       " 'totalCashPerShare': 14.387,\n",
       " 'financialCurrency': 'USD',\n",
       " 'revenuePerShare': 27.142,\n",
       " 'quickRatio': 1.585,\n",
       " 'recommendationMean': 1.8,\n",
       " 'exchange': 'NMS',\n",
       " 'shortName': 'Microsoft Corporation',\n",
       " 'longName': 'Microsoft Corporation',\n",
       " 'exchangeTimezoneName': 'America/New_York',\n",
       " 'exchangeTimezoneShortName': 'EST',\n",
       " 'isEsgPopulated': False,\n",
       " 'gmtOffSetMilliseconds': '-18000000',\n",
       " 'quoteType': 'EQUITY',\n",
       " 'symbol': 'MSFT',\n",
       " 'messageBoardId': 'finmb_21835',\n",
       " 'market': 'us_market',\n",
       " 'annualHoldingsTurnover': None,\n",
       " 'enterpriseToRevenue': 8.012,\n",
       " 'beta3Year': None,\n",
       " 'enterpriseToEbitda': 16.462,\n",
       " '52WeekChange': -0.28427786,\n",
       " 'morningStarRiskRating': None,\n",
       " 'forwardEps': 11.17,\n",
       " 'revenueQuarterlyGrowth': None,\n",
       " 'sharesOutstanding': 7454470144,\n",
       " 'fundInceptionDate': None,\n",
       " 'annualReportExpenseRatio': None,\n",
       " 'totalAssets': None,\n",
       " 'bookValue': 23.276,\n",
       " 'sharesShort': 41572793,\n",
       " 'sharesPercentSharesOut': 0.0056,\n",
       " 'fundFamily': None,\n",
       " 'lastFiscalYearEnd': 1656547200,\n",
       " 'heldPercentInstitutions': 0.73334,\n",
       " 'netIncomeToCommon': 69788999680,\n",
       " 'trailingEps': 9.29,\n",
       " 'lastDividendValue': 0.68,\n",
       " 'SandP52WeekChange': -0.16598755,\n",
       " 'priceToBook': 9.911068,\n",
       " 'heldPercentInsiders': 0.00059,\n",
       " 'nextFiscalYearEnd': 1719705600,\n",
       " 'yield': None,\n",
       " 'mostRecentQuarter': 1664496000,\n",
       " 'shortRatio': 1.6,\n",
       " 'sharesShortPreviousMonthDate': 1668470400,\n",
       " 'floatShares': 7447838663,\n",
       " 'beta': 0.926403,\n",
       " 'enterpriseValue': 1627095957504,\n",
       " 'priceHint': 2,\n",
       " 'threeYearAverageReturn': None,\n",
       " 'lastSplitDate': 1045526400,\n",
       " 'lastSplitFactor': '2:1',\n",
       " 'legalType': None,\n",
       " 'lastDividendDate': 1668556800,\n",
       " 'morningStarOverallRating': None,\n",
       " 'earningsQuarterlyGrowth': -0.144,\n",
       " 'priceToSalesTrailing12Months': 8.468161,\n",
       " 'dateShortInterest': 1671062400,\n",
       " 'pegRatio': 1.83,\n",
       " 'ytdReturn': None,\n",
       " 'forwardPE': 20.652641,\n",
       " 'lastCapGain': None,\n",
       " 'shortPercentOfFloat': 0.0056,\n",
       " 'sharesShortPriorMonth': 34590231,\n",
       " 'impliedSharesOutstanding': 0,\n",
       " 'category': None,\n",
       " 'fiveYearAverageReturn': None,\n",
       " 'previousClose': 224.93,\n",
       " 'regularMarketOpen': 226.45,\n",
       " 'twoHundredDayAverage': 259.5836,\n",
       " 'trailingAnnualDividendYield': 0.011292403,\n",
       " 'payoutRatio': 0.26700002,\n",
       " 'volume24Hr': None,\n",
       " 'regularMarketDayHigh': 231.23,\n",
       " 'navPrice': None,\n",
       " 'averageDailyVolume10Day': 28525260,\n",
       " 'regularMarketPreviousClose': 224.93,\n",
       " 'fiftyDayAverage': 239.6652,\n",
       " 'trailingAnnualDividendRate': 2.54,\n",
       " 'open': 226.45,\n",
       " 'toCurrency': None,\n",
       " 'averageVolume10days': 28525260,\n",
       " 'expireDate': None,\n",
       " 'algorithm': None,\n",
       " 'dividendRate': 2.72,\n",
       " 'exDividendDate': 1676419200,\n",
       " 'circulatingSupply': None,\n",
       " 'startDate': None,\n",
       " 'regularMarketDayLow': 226.41,\n",
       " 'currency': 'USD',\n",
       " 'trailingPE': 24.832077,\n",
       " 'regularMarketVolume': 14634822,\n",
       " 'lastMarket': None,\n",
       " 'maxSupply': None,\n",
       " 'openInterest': None,\n",
       " 'marketCap': 1719671717888,\n",
       " 'volumeAllCurrencies': None,\n",
       " 'strikePrice': None,\n",
       " 'averageVolume': 30569248,\n",
       " 'dayLow': 226.41,\n",
       " 'ask': 230.84,\n",
       " 'askSize': 800,\n",
       " 'volume': 14634822,\n",
       " 'fiftyTwoWeekHigh': 323.41,\n",
       " 'fromCurrency': None,\n",
       " 'fiveYearAvgDividendYield': 1.15,\n",
       " 'fiftyTwoWeekLow': 213.43,\n",
       " 'bid': 230.77,\n",
       " 'tradeable': False,\n",
       " 'dividendYield': 0.012200001,\n",
       " 'bidSize': 1000,\n",
       " 'dayHigh': 231.23,\n",
       " 'coinMarketCapLink': None,\n",
       " 'regularMarketPrice': 230.69,\n",
       " 'preMarketPrice': 226.55,\n",
       " 'logo_url': 'https://logo.clearbit.com/microsoft.com',\n",
       " 'trailingPegRatio': 2.1209}"
      ]
     },
     "execution_count": 4,
     "metadata": {},
     "output_type": "execute_result"
    }
   ],
   "source": [
    "# get stock info\n",
    "\n",
    "# This makes these calls ...\n",
    "# https://finance.yahoo.com/quote/MSFT\n",
    "# https://query1.finance.yahoo.com/ws/fundamentals-timeseries/v1/finance/timeseries/MSFT?symbol=MSFT&type=trailingPegRatio&period1=1657553237&period2=1673368037\n",
    "\n",
    "# Launch this again for the first time, it changes the values for period1 and period2 ...\n",
    "# https://query1.finance.yahoo.com/ws/fundamentals-timeseries/v1/finance/timeseries/MSFT?symbol=MSFT&type=trailingPegRatio&period1=1657553514&period2=1673368314\n",
    "\n",
    "msft.info"
   ]
  },
  {
   "cell_type": "code",
   "execution_count": 34,
   "id": "31f71a65-cb53-42c4-94e5-2160afcdb16f",
   "metadata": {},
   "outputs": [
    {
     "data": {
      "text/html": [
       "<div>\n",
       "<style scoped>\n",
       "    .dataframe tbody tr th:only-of-type {\n",
       "        vertical-align: middle;\n",
       "    }\n",
       "\n",
       "    .dataframe tbody tr th {\n",
       "        vertical-align: top;\n",
       "    }\n",
       "\n",
       "    .dataframe thead th {\n",
       "        text-align: right;\n",
       "    }\n",
       "</style>\n",
       "<table border=\"1\" class=\"dataframe\">\n",
       "  <thead>\n",
       "    <tr style=\"text-align: right;\">\n",
       "      <th></th>\n",
       "      <th>Open</th>\n",
       "      <th>High</th>\n",
       "      <th>Low</th>\n",
       "      <th>Close</th>\n",
       "      <th>Volume</th>\n",
       "      <th>Dividends</th>\n",
       "      <th>Stock Splits</th>\n",
       "    </tr>\n",
       "    <tr>\n",
       "      <th>Date</th>\n",
       "      <th></th>\n",
       "      <th></th>\n",
       "      <th></th>\n",
       "      <th></th>\n",
       "      <th></th>\n",
       "      <th></th>\n",
       "      <th></th>\n",
       "    </tr>\n",
       "  </thead>\n",
       "  <tbody>\n",
       "    <tr>\n",
       "      <th>1986-03-13 00:00:00-05:00</th>\n",
       "      <td>0.055380</td>\n",
       "      <td>0.063524</td>\n",
       "      <td>0.055380</td>\n",
       "      <td>0.060809</td>\n",
       "      <td>1031788800</td>\n",
       "      <td>0.0</td>\n",
       "      <td>0.0</td>\n",
       "    </tr>\n",
       "    <tr>\n",
       "      <th>1986-03-14 00:00:00-05:00</th>\n",
       "      <td>0.060809</td>\n",
       "      <td>0.064067</td>\n",
       "      <td>0.060809</td>\n",
       "      <td>0.062980</td>\n",
       "      <td>308160000</td>\n",
       "      <td>0.0</td>\n",
       "      <td>0.0</td>\n",
       "    </tr>\n",
       "    <tr>\n",
       "      <th>1986-03-17 00:00:00-05:00</th>\n",
       "      <td>0.062980</td>\n",
       "      <td>0.064609</td>\n",
       "      <td>0.062980</td>\n",
       "      <td>0.064067</td>\n",
       "      <td>133171200</td>\n",
       "      <td>0.0</td>\n",
       "      <td>0.0</td>\n",
       "    </tr>\n",
       "    <tr>\n",
       "      <th>1986-03-18 00:00:00-05:00</th>\n",
       "      <td>0.064067</td>\n",
       "      <td>0.064609</td>\n",
       "      <td>0.061894</td>\n",
       "      <td>0.062437</td>\n",
       "      <td>67766400</td>\n",
       "      <td>0.0</td>\n",
       "      <td>0.0</td>\n",
       "    </tr>\n",
       "    <tr>\n",
       "      <th>1986-03-19 00:00:00-05:00</th>\n",
       "      <td>0.062437</td>\n",
       "      <td>0.062980</td>\n",
       "      <td>0.060809</td>\n",
       "      <td>0.061351</td>\n",
       "      <td>47894400</td>\n",
       "      <td>0.0</td>\n",
       "      <td>0.0</td>\n",
       "    </tr>\n",
       "    <tr>\n",
       "      <th>...</th>\n",
       "      <td>...</td>\n",
       "      <td>...</td>\n",
       "      <td>...</td>\n",
       "      <td>...</td>\n",
       "      <td>...</td>\n",
       "      <td>...</td>\n",
       "      <td>...</td>\n",
       "    </tr>\n",
       "    <tr>\n",
       "      <th>2022-12-30 00:00:00-05:00</th>\n",
       "      <td>238.210007</td>\n",
       "      <td>239.960007</td>\n",
       "      <td>236.660004</td>\n",
       "      <td>239.820007</td>\n",
       "      <td>21930800</td>\n",
       "      <td>0.0</td>\n",
       "      <td>0.0</td>\n",
       "    </tr>\n",
       "    <tr>\n",
       "      <th>2023-01-03 00:00:00-05:00</th>\n",
       "      <td>243.080002</td>\n",
       "      <td>245.750000</td>\n",
       "      <td>237.399994</td>\n",
       "      <td>239.580002</td>\n",
       "      <td>25740000</td>\n",
       "      <td>0.0</td>\n",
       "      <td>0.0</td>\n",
       "    </tr>\n",
       "    <tr>\n",
       "      <th>2023-01-04 00:00:00-05:00</th>\n",
       "      <td>232.279999</td>\n",
       "      <td>232.869995</td>\n",
       "      <td>225.960007</td>\n",
       "      <td>229.100006</td>\n",
       "      <td>50623400</td>\n",
       "      <td>0.0</td>\n",
       "      <td>0.0</td>\n",
       "    </tr>\n",
       "    <tr>\n",
       "      <th>2023-01-05 00:00:00-05:00</th>\n",
       "      <td>227.199997</td>\n",
       "      <td>227.550003</td>\n",
       "      <td>221.759995</td>\n",
       "      <td>222.309998</td>\n",
       "      <td>39585600</td>\n",
       "      <td>0.0</td>\n",
       "      <td>0.0</td>\n",
       "    </tr>\n",
       "    <tr>\n",
       "      <th>2023-01-06 00:00:00-05:00</th>\n",
       "      <td>223.000000</td>\n",
       "      <td>225.759995</td>\n",
       "      <td>219.350006</td>\n",
       "      <td>224.929993</td>\n",
       "      <td>43597700</td>\n",
       "      <td>0.0</td>\n",
       "      <td>0.0</td>\n",
       "    </tr>\n",
       "  </tbody>\n",
       "</table>\n",
       "<p>9281 rows × 7 columns</p>\n",
       "</div>"
      ],
      "text/plain": [
       "                                 Open        High         Low       Close  \\\n",
       "Date                                                                        \n",
       "1986-03-13 00:00:00-05:00    0.055380    0.063524    0.055380    0.060809   \n",
       "1986-03-14 00:00:00-05:00    0.060809    0.064067    0.060809    0.062980   \n",
       "1986-03-17 00:00:00-05:00    0.062980    0.064609    0.062980    0.064067   \n",
       "1986-03-18 00:00:00-05:00    0.064067    0.064609    0.061894    0.062437   \n",
       "1986-03-19 00:00:00-05:00    0.062437    0.062980    0.060809    0.061351   \n",
       "...                               ...         ...         ...         ...   \n",
       "2022-12-30 00:00:00-05:00  238.210007  239.960007  236.660004  239.820007   \n",
       "2023-01-03 00:00:00-05:00  243.080002  245.750000  237.399994  239.580002   \n",
       "2023-01-04 00:00:00-05:00  232.279999  232.869995  225.960007  229.100006   \n",
       "2023-01-05 00:00:00-05:00  227.199997  227.550003  221.759995  222.309998   \n",
       "2023-01-06 00:00:00-05:00  223.000000  225.759995  219.350006  224.929993   \n",
       "\n",
       "                               Volume  Dividends  Stock Splits  \n",
       "Date                                                            \n",
       "1986-03-13 00:00:00-05:00  1031788800        0.0           0.0  \n",
       "1986-03-14 00:00:00-05:00   308160000        0.0           0.0  \n",
       "1986-03-17 00:00:00-05:00   133171200        0.0           0.0  \n",
       "1986-03-18 00:00:00-05:00    67766400        0.0           0.0  \n",
       "1986-03-19 00:00:00-05:00    47894400        0.0           0.0  \n",
       "...                               ...        ...           ...  \n",
       "2022-12-30 00:00:00-05:00    21930800        0.0           0.0  \n",
       "2023-01-03 00:00:00-05:00    25740000        0.0           0.0  \n",
       "2023-01-04 00:00:00-05:00    50623400        0.0           0.0  \n",
       "2023-01-05 00:00:00-05:00    39585600        0.0           0.0  \n",
       "2023-01-06 00:00:00-05:00    43597700        0.0           0.0  \n",
       "\n",
       "[9281 rows x 7 columns]"
      ]
     },
     "execution_count": 34,
     "metadata": {},
     "output_type": "execute_result"
    }
   ],
   "source": [
    "# get historical market data\n",
    "\n",
    "# This makes this call ...\n",
    "# https://query2.finance.yahoo.com/v8/finance/chart/MSFT\n",
    "\n",
    "hist = msft.history(period=\"max\")\n",
    "hist"
   ]
  },
  {
   "cell_type": "code",
   "execution_count": 35,
   "id": "512ea986-b8f9-46b5-9b02-33cfbd08df1f",
   "metadata": {},
   "outputs": [
    {
     "data": {
      "text/plain": [
       "{'currency': 'USD',\n",
       " 'symbol': 'MSFT',\n",
       " 'exchangeName': 'NMS',\n",
       " 'instrumentType': 'EQUITY',\n",
       " 'firstTradeDate': 511108200,\n",
       " 'regularMarketTime': 1673282749,\n",
       " 'gmtoffset': -18000,\n",
       " 'timezone': 'EST',\n",
       " 'exchangeTimezoneName': 'America/New_York',\n",
       " 'regularMarketPrice': 230.58,\n",
       " 'chartPreviousClose': 0.097,\n",
       " 'priceHint': 2,\n",
       " 'currentTradingPeriod': {'pre': {'timezone': 'EST',\n",
       "   'start': 1673254800,\n",
       "   'end': 1673274600,\n",
       "   'gmtoffset': -18000},\n",
       "  'regular': {'timezone': 'EST',\n",
       "   'start': 1673274600,\n",
       "   'end': 1673298000,\n",
       "   'gmtoffset': -18000},\n",
       "  'post': {'timezone': 'EST',\n",
       "   'start': 1673298000,\n",
       "   'end': 1673312400,\n",
       "   'gmtoffset': -18000}},\n",
       " 'dataGranularity': '1d',\n",
       " 'range': '',\n",
       " 'validRanges': ['1d',\n",
       "  '5d',\n",
       "  '1mo',\n",
       "  '3mo',\n",
       "  '6mo',\n",
       "  '1y',\n",
       "  '2y',\n",
       "  '5y',\n",
       "  '10y',\n",
       "  'ytd',\n",
       "  'max']}"
      ]
     },
     "execution_count": 35,
     "metadata": {},
     "output_type": "execute_result"
    }
   ],
   "source": [
    "# show meta information about the history (requires history() to be called first)\n",
    "# This does not appear to get any new data but read from what has already been pulled.\n",
    "msft.history_metadata"
   ]
  },
  {
   "cell_type": "code",
   "execution_count": 36,
   "id": "f3a31159-da76-4e8c-9af0-d79974d669f8",
   "metadata": {},
   "outputs": [
    {
     "data": {
      "text/html": [
       "<div>\n",
       "<style scoped>\n",
       "    .dataframe tbody tr th:only-of-type {\n",
       "        vertical-align: middle;\n",
       "    }\n",
       "\n",
       "    .dataframe tbody tr th {\n",
       "        vertical-align: top;\n",
       "    }\n",
       "\n",
       "    .dataframe thead th {\n",
       "        text-align: right;\n",
       "    }\n",
       "</style>\n",
       "<table border=\"1\" class=\"dataframe\">\n",
       "  <thead>\n",
       "    <tr style=\"text-align: right;\">\n",
       "      <th></th>\n",
       "      <th>Dividends</th>\n",
       "      <th>Stock Splits</th>\n",
       "    </tr>\n",
       "    <tr>\n",
       "      <th>Date</th>\n",
       "      <th></th>\n",
       "      <th></th>\n",
       "    </tr>\n",
       "  </thead>\n",
       "  <tbody>\n",
       "    <tr>\n",
       "      <th>1987-09-21 00:00:00-04:00</th>\n",
       "      <td>0.00</td>\n",
       "      <td>2.0</td>\n",
       "    </tr>\n",
       "    <tr>\n",
       "      <th>1990-04-16 00:00:00-04:00</th>\n",
       "      <td>0.00</td>\n",
       "      <td>2.0</td>\n",
       "    </tr>\n",
       "    <tr>\n",
       "      <th>1991-06-27 00:00:00-04:00</th>\n",
       "      <td>0.00</td>\n",
       "      <td>1.5</td>\n",
       "    </tr>\n",
       "    <tr>\n",
       "      <th>1992-06-15 00:00:00-04:00</th>\n",
       "      <td>0.00</td>\n",
       "      <td>1.5</td>\n",
       "    </tr>\n",
       "    <tr>\n",
       "      <th>1994-05-23 00:00:00-04:00</th>\n",
       "      <td>0.00</td>\n",
       "      <td>2.0</td>\n",
       "    </tr>\n",
       "    <tr>\n",
       "      <th>...</th>\n",
       "      <td>...</td>\n",
       "      <td>...</td>\n",
       "    </tr>\n",
       "    <tr>\n",
       "      <th>2021-11-17 00:00:00-05:00</th>\n",
       "      <td>0.62</td>\n",
       "      <td>0.0</td>\n",
       "    </tr>\n",
       "    <tr>\n",
       "      <th>2022-02-16 00:00:00-05:00</th>\n",
       "      <td>0.62</td>\n",
       "      <td>0.0</td>\n",
       "    </tr>\n",
       "    <tr>\n",
       "      <th>2022-05-18 00:00:00-04:00</th>\n",
       "      <td>0.62</td>\n",
       "      <td>0.0</td>\n",
       "    </tr>\n",
       "    <tr>\n",
       "      <th>2022-08-17 00:00:00-04:00</th>\n",
       "      <td>0.62</td>\n",
       "      <td>0.0</td>\n",
       "    </tr>\n",
       "    <tr>\n",
       "      <th>2022-11-16 00:00:00-05:00</th>\n",
       "      <td>0.68</td>\n",
       "      <td>0.0</td>\n",
       "    </tr>\n",
       "  </tbody>\n",
       "</table>\n",
       "<p>85 rows × 2 columns</p>\n",
       "</div>"
      ],
      "text/plain": [
       "                           Dividends  Stock Splits\n",
       "Date                                              \n",
       "1987-09-21 00:00:00-04:00       0.00           2.0\n",
       "1990-04-16 00:00:00-04:00       0.00           2.0\n",
       "1991-06-27 00:00:00-04:00       0.00           1.5\n",
       "1992-06-15 00:00:00-04:00       0.00           1.5\n",
       "1994-05-23 00:00:00-04:00       0.00           2.0\n",
       "...                              ...           ...\n",
       "2021-11-17 00:00:00-05:00       0.62           0.0\n",
       "2022-02-16 00:00:00-05:00       0.62           0.0\n",
       "2022-05-18 00:00:00-04:00       0.62           0.0\n",
       "2022-08-17 00:00:00-04:00       0.62           0.0\n",
       "2022-11-16 00:00:00-05:00       0.68           0.0\n",
       "\n",
       "[85 rows x 2 columns]"
      ]
     },
     "execution_count": 36,
     "metadata": {},
     "output_type": "execute_result"
    }
   ],
   "source": [
    "# show actions (dividends, splits, capital gains)\n",
    "# This does not appear to get any new data but read from what has already been pulled.\n",
    "msft.actions"
   ]
  },
  {
   "cell_type": "code",
   "execution_count": 39,
   "id": "334180a8-b70d-4fa6-81e5-21e21a334d9f",
   "metadata": {},
   "outputs": [
    {
     "data": {
      "text/plain": [
       "Date\n",
       "2003-02-19 00:00:00-05:00    0.08\n",
       "2003-10-15 00:00:00-04:00    0.16\n",
       "2004-08-23 00:00:00-04:00    0.08\n",
       "2004-11-15 00:00:00-05:00    3.08\n",
       "2005-02-15 00:00:00-05:00    0.08\n",
       "                             ... \n",
       "2021-11-17 00:00:00-05:00    0.62\n",
       "2022-02-16 00:00:00-05:00    0.62\n",
       "2022-05-18 00:00:00-04:00    0.62\n",
       "2022-08-17 00:00:00-04:00    0.62\n",
       "2022-11-16 00:00:00-05:00    0.68\n",
       "Name: Dividends, Length: 76, dtype: float64"
      ]
     },
     "execution_count": 39,
     "metadata": {},
     "output_type": "execute_result"
    }
   ],
   "source": [
    "# show dividends\n",
    "# This does not appear to get any new data but read from what has already been pulled.\n",
    "msft.dividends"
   ]
  },
  {
   "cell_type": "code",
   "execution_count": 42,
   "id": "d118caec-a1b2-4b45-b8b6-f2d248cc72cd",
   "metadata": {},
   "outputs": [
    {
     "data": {
      "text/plain": [
       "Date\n",
       "1987-09-21 00:00:00-04:00    2.0\n",
       "1990-04-16 00:00:00-04:00    2.0\n",
       "1991-06-27 00:00:00-04:00    1.5\n",
       "1992-06-15 00:00:00-04:00    1.5\n",
       "1994-05-23 00:00:00-04:00    2.0\n",
       "1996-12-09 00:00:00-05:00    2.0\n",
       "1998-02-23 00:00:00-05:00    2.0\n",
       "1999-03-29 00:00:00-05:00    2.0\n",
       "2003-02-18 00:00:00-05:00    2.0\n",
       "Name: Stock Splits, dtype: float64"
      ]
     },
     "execution_count": 42,
     "metadata": {},
     "output_type": "execute_result"
    }
   ],
   "source": [
    "# show splits\n",
    "# This does not appear to get any new data but read from what has already been pulled.\n",
    "msft.splits"
   ]
  },
  {
   "cell_type": "code",
   "execution_count": 43,
   "id": "3d0930ce-198d-4257-9c98-2cfece631f7b",
   "metadata": {},
   "outputs": [
    {
     "data": {
      "text/plain": [
       "[]"
      ]
     },
     "execution_count": 43,
     "metadata": {},
     "output_type": "execute_result"
    }
   ],
   "source": [
    "# show capital gains (for mutual funds & etfs)\n",
    "# This does not appear to get any new data but read from what has already been pulled.\n",
    "msft.capital_gains"
   ]
  },
  {
   "cell_type": "code",
   "execution_count": 44,
   "id": "831dd2d2-50f4-4a06-9eea-0921234b93e8",
   "metadata": {},
   "outputs": [
    {
     "data": {
      "text/html": [
       "<div>\n",
       "<style scoped>\n",
       "    .dataframe tbody tr th:only-of-type {\n",
       "        vertical-align: middle;\n",
       "    }\n",
       "\n",
       "    .dataframe tbody tr th {\n",
       "        vertical-align: top;\n",
       "    }\n",
       "\n",
       "    .dataframe thead th {\n",
       "        text-align: right;\n",
       "    }\n",
       "</style>\n",
       "<table border=\"1\" class=\"dataframe\">\n",
       "  <thead>\n",
       "    <tr style=\"text-align: right;\">\n",
       "      <th></th>\n",
       "      <th>BasicShares</th>\n",
       "    </tr>\n",
       "    <tr>\n",
       "      <th>Year</th>\n",
       "      <th></th>\n",
       "    </tr>\n",
       "  </thead>\n",
       "  <tbody>\n",
       "    <tr>\n",
       "      <th>2019</th>\n",
       "      <td>7673000000</td>\n",
       "    </tr>\n",
       "    <tr>\n",
       "      <th>2020</th>\n",
       "      <td>7610000000</td>\n",
       "    </tr>\n",
       "    <tr>\n",
       "      <th>2021</th>\n",
       "      <td>7547000000</td>\n",
       "    </tr>\n",
       "    <tr>\n",
       "      <th>2022</th>\n",
       "      <td>7496000000</td>\n",
       "    </tr>\n",
       "  </tbody>\n",
       "</table>\n",
       "</div>"
      ],
      "text/plain": [
       "      BasicShares\n",
       "Year             \n",
       "2019   7673000000\n",
       "2020   7610000000\n",
       "2021   7547000000\n",
       "2022   7496000000"
      ]
     },
     "execution_count": 44,
     "metadata": {},
     "output_type": "execute_result"
    }
   ],
   "source": [
    "# show share count\n",
    "msft.shares"
   ]
  },
  {
   "cell_type": "code",
   "execution_count": null,
   "id": "aeb03b2b-d709-4f20-81de-cb237e2bac4b",
   "metadata": {},
   "outputs": [],
   "source": [
    "# show financials:\n",
    "# - income statement\n",
    "msft.income_stmt"
   ]
  },
  {
   "cell_type": "code",
   "execution_count": null,
   "id": "13ff630b-4e97-438b-be2b-fe1d864fad9e",
   "metadata": {},
   "outputs": [],
   "source": [
    "msft.quarterly_income_stmt"
   ]
  },
  {
   "cell_type": "code",
   "execution_count": null,
   "id": "eb6d4fe6-cd1d-4a43-b879-4c665fc2fc1e",
   "metadata": {},
   "outputs": [],
   "source": [
    "# show financials:\n",
    "# - income statement\n",
    "msft.income_stmt"
   ]
  },
  {
   "cell_type": "code",
   "execution_count": null,
   "id": "fb5bdb89-a3cf-4baa-9deb-47ed1aa4a300",
   "metadata": {},
   "outputs": [],
   "source": [
    "msft.quarterly_income_stmt"
   ]
  },
  {
   "cell_type": "code",
   "execution_count": null,
   "id": "76d5db14-eba5-4e7c-b787-93c966624fd3",
   "metadata": {},
   "outputs": [],
   "source": [
    "# - balance sheet\n",
    "msft.balance_sheet"
   ]
  },
  {
   "cell_type": "code",
   "execution_count": null,
   "id": "6dd43932-bdca-48e9-8013-a9652eed9903",
   "metadata": {},
   "outputs": [],
   "source": [
    "msft.quarterly_balance_sheet"
   ]
  },
  {
   "cell_type": "code",
   "execution_count": null,
   "id": "62399ecc-9aac-4947-b035-1e203e059c84",
   "metadata": {},
   "outputs": [],
   "source": [
    "# - cash flow statement\n",
    "msft.cashflow"
   ]
  },
  {
   "cell_type": "code",
   "execution_count": null,
   "id": "a505a724-aa96-4499-a175-e25fe1431c80",
   "metadata": {},
   "outputs": [],
   "source": [
    "msft.quarterly_cashflow\n",
    "# see `Ticker.get_income_stmt()` for more options"
   ]
  },
  {
   "cell_type": "code",
   "execution_count": null,
   "id": "d5d46949-c0a1-40b8-9b8e-828882d1037e",
   "metadata": {},
   "outputs": [],
   "source": [
    "# show major holders\n",
    "msft.major_holders"
   ]
  },
  {
   "cell_type": "code",
   "execution_count": null,
   "id": "af94567b-0ef2-489b-8332-b13f2fde8774",
   "metadata": {},
   "outputs": [],
   "source": [
    "# show institutional holders\n",
    "msft.institutional_holders"
   ]
  },
  {
   "cell_type": "code",
   "execution_count": null,
   "id": "fd1a91cc-bf38-4995-9e1a-e59712b07c42",
   "metadata": {},
   "outputs": [],
   "source": [
    "# show mutualfund holders\n",
    "msft.mutualfund_holders"
   ]
  },
  {
   "cell_type": "code",
   "execution_count": 4,
   "id": "abbd7eb7-6ccc-4600-9944-81217b42871c",
   "metadata": {},
   "outputs": [
    {
     "data": {
      "text/html": [
       "<div>\n",
       "<style scoped>\n",
       "    .dataframe tbody tr th:only-of-type {\n",
       "        vertical-align: middle;\n",
       "    }\n",
       "\n",
       "    .dataframe tbody tr th {\n",
       "        vertical-align: top;\n",
       "    }\n",
       "\n",
       "    .dataframe thead th {\n",
       "        text-align: right;\n",
       "    }\n",
       "</style>\n",
       "<table border=\"1\" class=\"dataframe\">\n",
       "  <thead>\n",
       "    <tr style=\"text-align: right;\">\n",
       "      <th></th>\n",
       "      <th>Revenue</th>\n",
       "      <th>Earnings</th>\n",
       "    </tr>\n",
       "    <tr>\n",
       "      <th>Year</th>\n",
       "      <th></th>\n",
       "      <th></th>\n",
       "    </tr>\n",
       "  </thead>\n",
       "  <tbody>\n",
       "    <tr>\n",
       "      <th>2019</th>\n",
       "      <td>125843000000</td>\n",
       "      <td>39240000000</td>\n",
       "    </tr>\n",
       "    <tr>\n",
       "      <th>2020</th>\n",
       "      <td>143015000000</td>\n",
       "      <td>44281000000</td>\n",
       "    </tr>\n",
       "    <tr>\n",
       "      <th>2021</th>\n",
       "      <td>168088000000</td>\n",
       "      <td>61271000000</td>\n",
       "    </tr>\n",
       "    <tr>\n",
       "      <th>2022</th>\n",
       "      <td>198270000000</td>\n",
       "      <td>72738000000</td>\n",
       "    </tr>\n",
       "  </tbody>\n",
       "</table>\n",
       "</div>"
      ],
      "text/plain": [
       "           Revenue     Earnings\n",
       "Year                           \n",
       "2019  125843000000  39240000000\n",
       "2020  143015000000  44281000000\n",
       "2021  168088000000  61271000000\n",
       "2022  198270000000  72738000000"
      ]
     },
     "execution_count": 4,
     "metadata": {},
     "output_type": "execute_result"
    }
   ],
   "source": [
    "# show earnings\n",
    "msft.earnings"
   ]
  },
  {
   "cell_type": "code",
   "execution_count": null,
   "id": "a6f97389-20fb-4df0-a4fa-383345213fe4",
   "metadata": {},
   "outputs": [],
   "source": [
    "msft.quarterly_earnings"
   ]
  },
  {
   "cell_type": "code",
   "execution_count": null,
   "id": "7f4431c3-dfbc-48c6-b6eb-62ba66043af3",
   "metadata": {},
   "outputs": [],
   "source": [
    "# show sustainability\n",
    "msft.sustainability"
   ]
  },
  {
   "cell_type": "code",
   "execution_count": null,
   "id": "27b63b86-d424-40ad-bc22-a03cc7b05dba",
   "metadata": {},
   "outputs": [],
   "source": [
    "# show analysts recommendations\n",
    "msft.recommendations"
   ]
  },
  {
   "cell_type": "code",
   "execution_count": null,
   "id": "716728fc-aea8-4099-a417-d09d14b7727a",
   "metadata": {},
   "outputs": [],
   "source": [
    "msft.recommendations_summary"
   ]
  },
  {
   "cell_type": "code",
   "execution_count": null,
   "id": "ffe5db37-0937-4218-b54f-ec9450b43acb",
   "metadata": {},
   "outputs": [],
   "source": [
    "# show analysts other work\n",
    "msft.analyst_price_target"
   ]
  },
  {
   "cell_type": "code",
   "execution_count": null,
   "id": "92fd02e6-5b2c-407a-b012-d3583b5e4707",
   "metadata": {},
   "outputs": [],
   "source": [
    "msft.revenue_forecasts"
   ]
  },
  {
   "cell_type": "code",
   "execution_count": null,
   "id": "c6e3ce0e-f1f9-477d-bf8b-affd80353df2",
   "metadata": {},
   "outputs": [],
   "source": [
    "msft.earnings_forecasts"
   ]
  },
  {
   "cell_type": "code",
   "execution_count": null,
   "id": "929f2ad3-6c68-4a76-b6b0-24a82b63a04e",
   "metadata": {},
   "outputs": [],
   "source": [
    "msft.earnings_trend"
   ]
  },
  {
   "cell_type": "code",
   "execution_count": null,
   "id": "75ba9c1b-119a-460e-b096-2b6e31a1f97e",
   "metadata": {},
   "outputs": [],
   "source": [
    "# show next event (earnings, etc)\n",
    "msft.calendar"
   ]
  },
  {
   "cell_type": "code",
   "execution_count": null,
   "id": "e4577d66-c9c5-4792-b9a1-b07f80dcaffa",
   "metadata": {},
   "outputs": [],
   "source": [
    "# Show future and historic earnings dates, returns at most next 4 quarters and last 8 quarters by default. \n",
    "# Note: If more are needed use msft.get_earnings_dates(limit=XX) with increased limit argument.\n",
    "msft.earnings_dates"
   ]
  },
  {
   "cell_type": "code",
   "execution_count": null,
   "id": "52bed01d-87bb-4777-9cc2-a37771b44df2",
   "metadata": {},
   "outputs": [],
   "source": [
    "# show ISIN code - *experimental*\n",
    "# ISIN = International Securities Identification Number\n",
    "msft.isin"
   ]
  },
  {
   "cell_type": "code",
   "execution_count": null,
   "id": "2f9a7566-10d7-49a7-8011-a401fa1f5f87",
   "metadata": {},
   "outputs": [],
   "source": [
    "# show options expirations\n",
    "msft.options"
   ]
  },
  {
   "cell_type": "code",
   "execution_count": null,
   "id": "a2676aac-9d6c-4c42-8e41-e965befc475c",
   "metadata": {},
   "outputs": [],
   "source": [
    "# show news\n",
    "msft.news"
   ]
  },
  {
   "cell_type": "code",
   "execution_count": null,
   "id": "cfd9cc0e-06ca-4764-b70d-6f59905f5ccb",
   "metadata": {},
   "outputs": [],
   "source": [
    "# get option chain for specific expiration\n",
    "opt = msft.option_chain('YYYY-MM-DD')\n",
    "# data available via: opt.calls, opt.puts"
   ]
  },
  {
   "cell_type": "code",
   "execution_count": null,
   "id": "de030d3b-1d31-45a8-8e45-f4f5c7a23606",
   "metadata": {},
   "outputs": [],
   "source": [
    "data = yf.download(  # or pdr.get_data_yahoo(...\n",
    "        # tickers list or string as well\n",
    "        tickers = \"SPY AAPL MSFT\",\n",
    "\n",
    "        # use \"period\" instead of start/end\n",
    "        # valid periods: 1d,5d,1mo,3mo,6mo,1y,2y,5y,10y,ytd,max\n",
    "        # (optional, default is '1mo')\n",
    "        period = \"ytd\",\n",
    "\n",
    "        # fetch data by interval (including intraday if period < 60 days)\n",
    "        # valid intervals: 1m,2m,5m,15m,30m,60m,90m,1h,1d,5d,1wk,1mo,3mo\n",
    "        # (optional, default is '1d')\n",
    "        interval = \"5d\",\n",
    "\n",
    "        # Whether to ignore timezone when aligning ticker data from \n",
    "        # different timezones. Default is True. False may be useful for \n",
    "        # minute/hourly data.\n",
    "        ignore_tz = False,\n",
    "\n",
    "        # group by ticker (to access via data['SPY'])\n",
    "        # (optional, default is 'column')\n",
    "        group_by = 'ticker',\n",
    "\n",
    "        # adjust all OHLC automatically\n",
    "        # (optional, default is False)\n",
    "        auto_adjust = True,\n",
    "\n",
    "        # attempt repair of missing data or currency mixups e.g. $/cents\n",
    "        repair = False,\n",
    "\n",
    "        # download pre/post regular market hours data\n",
    "        # (optional, default is False)\n",
    "        prepost = True,\n",
    "\n",
    "        # use threads for mass downloading? (True/False/Integer)\n",
    "        # (optional, default is True)\n",
    "        threads = True,\n",
    "\n",
    "        # proxy URL scheme use use when downloading?\n",
    "        # (optional, default is None)\n",
    "        proxy = None\n",
    "    )"
   ]
  },
  {
   "cell_type": "code",
   "execution_count": null,
   "id": "4510ea97-618f-452f-acd1-36a777eaf0ac",
   "metadata": {},
   "outputs": [],
   "source": [
    "from pandas_datareader import data as pdr\n",
    "\n",
    "import yfinance as yf\n",
    "yf.pdr_override() # <== that's all it takes :-)\n",
    "\n",
    "# download dataframe\n",
    "data = pdr.get_data_yahoo(\"SPY\", start=\"2017-01-01\", end=\"2017-04-30\")"
   ]
  },
  {
   "cell_type": "code",
   "execution_count": null,
   "id": "1dd16409-c8cf-4aa6-a6da-dd707b396a85",
   "metadata": {},
   "outputs": [],
   "source": []
  }
 ],
 "metadata": {
  "kernelspec": {
   "display_name": "finance",
   "language": "python",
   "name": "python3"
  },
  "language_info": {
   "codemirror_mode": {
    "name": "ipython",
    "version": 3
   },
   "file_extension": ".py",
   "mimetype": "text/x-python",
   "name": "python",
   "nbconvert_exporter": "python",
   "pygments_lexer": "ipython3",
   "version": "3.9.15 | packaged by conda-forge | (main, Nov 22 2022, 15:55:03) \n[GCC 10.4.0]"
  },
  "vscode": {
   "interpreter": {
    "hash": "8f7c8ecbc7e34cbb6c7c9d013752ebac13f10ea0a22542af22086ff4db24eb57"
   }
  }
 },
 "nbformat": 4,
 "nbformat_minor": 5
}
